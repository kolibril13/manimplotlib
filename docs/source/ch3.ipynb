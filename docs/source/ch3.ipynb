{
 "cells": [
  {
   "cell_type": "markdown",
   "id": "b97af06a",
   "metadata": {},
   "source": [
    "# Mobject Basics\n",
    "\n",
    "After reading this chapter, you will be able to build up Mobjects on scenes, no animations included yet. There will be lots of minimal examples and only very brief explanations."
   ]
  },
  {
   "cell_type": "code",
   "execution_count": null,
   "id": "495c6464",
   "metadata": {},
   "outputs": [],
   "source": [
    "from manim import * \n",
    "config.media_embed = True"
   ]
  },
  {
   "cell_type": "code",
   "execution_count": null,
   "id": "29f834d0",
   "metadata": {},
   "outputs": [],
   "source": [
    "#ignore this cell, only for setup\n",
    "param = \"-v WARNING -r 500,100 -s  --disable_caching Example\"\n",
    "parambigger = \"-v WARNING -r 500,500  --disable_caching Example\""
   ]
  },
  {
   "cell_type": "code",
   "execution_count": null,
   "id": "94b669d2",
   "metadata": {},
   "outputs": [],
   "source": [
    "%%manim $parambigger\n",
    "\n",
    "import matplotlib.pyplot as plt\n",
    "\n",
    "def my_function(amplitude, x):\n",
    "    return amplitude * np.sin(x)\n",
    "\n",
    "def mpl_image_plt(amplitude, x):\n",
    "    fig, ax = plt.subplots()\n",
    "    ax.plot(x, my_function(amplitude, x))\n",
    "    ax.set_ylim(-1, 1)\n",
    "    fig.canvas.draw()\n",
    "    img = ImageMobject(fig.canvas.buffer_rgba()).scale(2)\n",
    "    plt.close(fig)\n",
    "    return img\n",
    "\n",
    "class Example(Scene):\n",
    "    def construct(self):\n",
    "        x_values = np.linspace(0, 30, 400)\n",
    "        amp1 = 0.5\n",
    "        amp2 = 1\n",
    "        tr_amplitude = ValueTracker(amp1)\n",
    "        image = mpl_image_plt(amp1, x_values)\n",
    "        self.add(image)\n",
    "\n",
    "        def update_image(mob):\n",
    "            new_mob = mpl_image_plt(tr_amplitude.get_value(), x_values)\n",
    "            mob.become(new_mob)\n",
    "\n",
    "        image.add_updater(update_image)\n",
    "        self.play(tr_amplitude.animate.set_value(amp2), run_time=3)"
   ]
  },
  {
   "cell_type": "code",
   "execution_count": null,
   "id": "0b9fc157",
   "metadata": {},
   "outputs": [],
   "source": []
  }
 ],
 "metadata": {
  "kernelspec": {
   "display_name": ".venv",
   "language": "python",
   "name": "python3"
  },
  "language_info": {
   "codemirror_mode": {
    "name": "ipython",
    "version": 3
   },
   "file_extension": ".py",
   "mimetype": "text/x-python",
   "name": "python",
   "nbconvert_exporter": "python",
   "pygments_lexer": "ipython3",
   "version": "3.11.1"
  },
  "vscode": {
   "interpreter": {
    "hash": "8c25c5cd46b8b3d7ca9fc462fbba3ba71cb27607469c3474f13a70b04e274f5f"
   }
  }
 },
 "nbformat": 4,
 "nbformat_minor": 5
}
