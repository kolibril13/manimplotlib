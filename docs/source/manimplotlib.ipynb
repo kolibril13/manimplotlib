{
 "cells": [
  {
   "attachments": {},
   "cell_type": "markdown",
   "id": "b97af06a",
   "metadata": {},
   "source": [
    "# Ratefunction\n",
    "Repo on Github:  https://github.com/kolibril13/manimplotlib"
   ]
  },
  {
   "cell_type": "code",
   "execution_count": null,
   "id": "495c6464",
   "metadata": {},
   "outputs": [],
   "source": [
    "import matplotlib.pyplot as plt\n",
    "import numpy as np\n",
    "from manim import *\n",
    "config.media_embed = True"
   ]
  },
  {
   "cell_type": "code",
   "execution_count": null,
   "id": "94b669d2",
   "metadata": {},
   "outputs": [],
   "source": [
    "def my_function(amplitude, x):\n",
    "    return amplitude * np.sin(x)\n",
    "\n",
    "def mpl_image_plt(amplitude, x):\n",
    "    fig, ax = plt.subplots()\n",
    "    ax.plot(x, my_function(amplitude, x))\n",
    "    ax.set_ylim(-1, 1)\n",
    "    fig.canvas.draw()\n",
    "    img = ImageMobject(fig.canvas.buffer_rgba()).scale(2)\n",
    "    plt.close(fig)\n",
    "    return img\n",
    "\n",
    "class Example(Scene):\n",
    "    def construct(self):\n",
    "        self.camera.background_color = BLUE_A\n",
    "        x_values = np.linspace(0, 30, 400)\n",
    "        amp1 = 0.5\n",
    "        amp2 = 1\n",
    "        tr_amplitude = ValueTracker(amp1)\n",
    "        image = mpl_image_plt(amp1, x_values)\n",
    "        self.add(image)\n",
    "\n",
    "        def update_image(mob):\n",
    "            new_mob = mpl_image_plt(tr_amplitude.get_value(), x_values)\n",
    "            mob.become(new_mob)\n",
    "\n",
    "        image.add_updater(update_image)\n",
    "        self.play(tr_amplitude.animate.set_value(amp2), rate_func = smooth , run_time = 1.)\n",
    "        self.play(tr_amplitude.animate.set_value(amp1), rate_func = smooth , run_time = 1.)\n",
    "\n",
    "%manim -v WARNING -qh --disable_caching --progress_bar None Example"
   ]
  },
  {
   "cell_type": "code",
   "execution_count": null,
   "id": "0b9fc157",
   "metadata": {},
   "outputs": [],
   "source": []
  }
 ],
 "metadata": {
  "kernelspec": {
   "display_name": ".venv",
   "language": "python",
   "name": "python3"
  },
  "language_info": {
   "codemirror_mode": {
    "name": "ipython",
    "version": 3
   },
   "file_extension": ".py",
   "mimetype": "text/x-python",
   "name": "python",
   "nbconvert_exporter": "python",
   "pygments_lexer": "ipython3",
   "version": "3.11.1 (main, Dec 23 2022, 09:28:24) [Clang 14.0.0 (clang-1400.0.29.202)]"
  },
  "vscode": {
   "interpreter": {
    "hash": "8c25c5cd46b8b3d7ca9fc462fbba3ba71cb27607469c3474f13a70b04e274f5f"
   }
  }
 },
 "nbformat": 4,
 "nbformat_minor": 5
}
