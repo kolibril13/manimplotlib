{
 "cells": [
  {
   "attachments": {},
   "cell_type": "markdown",
   "metadata": {},
   "source": [
    "# FadeIn"
   ]
  },
  {
   "cell_type": "code",
   "execution_count": null,
   "metadata": {},
   "outputs": [],
   "source": [
    "import matplotlib.pyplot as plt\n",
    "import numpy as np\n",
    "from manim import *\n",
    "config.media_embed = True\n",
    "\n",
    "# generate data\n",
    "np.random.seed(19680801)\n",
    "all_data = [np.random.normal(0, std, 100) for std in range(6, 10)]"
   ]
  },
  {
   "cell_type": "code",
   "execution_count": null,
   "metadata": {},
   "outputs": [],
   "source": [
    "# make plot\n",
    "fig, ax = plt.subplots(figsize=(4, 3))\n",
    "ax.violinplot(all_data,\n",
    "                  showmeans=False,\n",
    "                  showmedians=True)\n",
    "ax.set_title('Violin plot')\n",
    "ax.set_xlim(0.5, 4.5)\n",
    "\n",
    "# save figure as array\n",
    "fig.canvas.draw() \n",
    "buf1 = np.array(fig.canvas.buffer_rgba())  \n"
   ]
  },
  {
   "cell_type": "code",
   "execution_count": null,
   "metadata": {},
   "outputs": [],
   "source": [
    "# make plot\n",
    "fig, ax = plt.subplots(figsize=(4, 3))\n",
    "\n",
    "ax.boxplot(all_data)\n",
    "ax.set_title('Box plot')\n",
    "ax.set_xlim(0.5, 4.5)\n",
    "\n",
    "# save figure as array\n",
    "fig.canvas.draw() \n",
    "buf2 = np.array(fig.canvas.buffer_rgba())  "
   ]
  },
  {
   "cell_type": "code",
   "execution_count": null,
   "metadata": {},
   "outputs": [],
   "source": [
    "class Example(Scene):\n",
    "    def construct(self):\n",
    "        self.camera.background_color = BLUE_A\n",
    "        img1 = ImageMobject(buf1).set(height=6.5)\n",
    "        img2 = ImageMobject(buf2).set(height=6.5)\n",
    "        self.add(img1)\n",
    "        self.wait(0.5)\n",
    "        self.play(FadeIn(img2))\n",
    "        self.wait()\n",
    "\n",
    "%manim -v WARNING -qh --disable_caching --progress_bar None Example"
   ]
  },
  {
   "cell_type": "code",
   "execution_count": null,
   "metadata": {},
   "outputs": [],
   "source": []
  }
 ],
 "metadata": {
  "kernelspec": {
   "display_name": ".venv",
   "language": "python",
   "name": "python3"
  },
  "language_info": {
   "codemirror_mode": {
    "name": "ipython",
    "version": 3
   },
   "file_extension": ".py",
   "mimetype": "text/x-python",
   "name": "python",
   "nbconvert_exporter": "python",
   "pygments_lexer": "ipython3",
   "version": "3.11.1"
  },
  "orig_nbformat": 4,
  "vscode": {
   "interpreter": {
    "hash": "8c25c5cd46b8b3d7ca9fc462fbba3ba71cb27607469c3474f13a70b04e274f5f"
   }
  }
 },
 "nbformat": 4,
 "nbformat_minor": 2
}
