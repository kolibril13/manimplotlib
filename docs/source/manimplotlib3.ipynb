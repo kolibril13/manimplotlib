{
 "cells": [
  {
   "attachments": {},
   "cell_type": "markdown",
   "metadata": {},
   "source": [
    "# Projection"
   ]
  },
  {
   "cell_type": "code",
   "execution_count": null,
   "metadata": {},
   "outputs": [],
   "source": [
    "import matplotlib.pyplot as plt\n",
    "import numpy as np\n",
    "from manim import *\n",
    "config.media_embed = True\n",
    "\n",
    "\n",
    "# Fixing random state for reproducibility\n",
    "np.random.seed(19680801)\n",
    "\n",
    "# some random data\n",
    "x1 = np.random.normal(2, 0.2,100)\n",
    "y1 = np.random.normal(2.2, 0.8,100)\n",
    "\n",
    "x2 = np.random.normal(3.5, 0.2,100)\n",
    "y2 = np.random.normal(3, 0.5,100)\n",
    "\n",
    "def make_plot(x_tracker,y_tracker):\n",
    "    fig, ax = plt.subplots(figsize=(4, 3))\n",
    "    ax.set_xlim(0,5)\n",
    "    ax.set_ylim(0,5)\n",
    "    ax.scatter(x1,y1 , color=\"oldlace\" )\n",
    "    ax.scatter(x2,y2 , color=\"aliceblue\")\n",
    "    ax.scatter(x1 * x_tracker, y1 * y_tracker, color=\"tab:orange\")\n",
    "    ax.scatter(x2 * x_tracker, y2 * y_tracker , color=\"tab:blue\")\n",
    "    fig.canvas.draw()\n",
    "    image = np.array(fig.canvas.buffer_rgba())\n",
    "    plt.close()\n",
    "    return image\n",
    "\n",
    "plt.imshow(make_plot(0.9,1))\n",
    "plt.axis(\"off\")"
   ]
  },
  {
   "cell_type": "code",
   "execution_count": null,
   "metadata": {},
   "outputs": [],
   "source": [
    "class Example(Scene):\n",
    "    def construct(self):\n",
    "        self.camera.background_color = BLUE_A\n",
    "        amp1=1\n",
    "        amp2=0.1\n",
    "        tr_amplitude1 = ValueTracker(amp1)\n",
    "        tr_amplitude2 = ValueTracker(amp1)\n",
    "\n",
    "        image = ImageMobject(make_plot(1,1)).scale(3)\n",
    "        self.add(image)\n",
    "\n",
    "        def update_image(mob):\n",
    "            new_mob = ImageMobject(make_plot(tr_amplitude1.get_value(),tr_amplitude2.get_value())).scale(3)\n",
    "            mob.become(new_mob)\n",
    "\n",
    "        image.add_updater(update_image)\n",
    "        self.play(tr_amplitude1.animate.set_value(amp2), run_time=1)\n",
    "        self.play(tr_amplitude1.animate.set_value(amp1), run_time=1)\n",
    "        self.play(tr_amplitude2.animate.set_value(amp2), run_time=1)\n",
    "        self.play(tr_amplitude2.animate.set_value(amp1), run_time=1)\n",
    "\n",
    "\n",
    "%manim -v WARNING -qh --disable_caching --progress_bar None Example"
   ]
  },
  {
   "cell_type": "code",
   "execution_count": null,
   "metadata": {},
   "outputs": [],
   "source": []
  }
 ],
 "metadata": {
  "kernelspec": {
   "display_name": ".venv",
   "language": "python",
   "name": "python3"
  },
  "language_info": {
   "codemirror_mode": {
    "name": "ipython",
    "version": 3
   },
   "file_extension": ".py",
   "mimetype": "text/x-python",
   "name": "python",
   "nbconvert_exporter": "python",
   "pygments_lexer": "ipython3",
   "version": "3.11.1 (main, Dec 23 2022, 09:28:24) [Clang 14.0.0 (clang-1400.0.29.202)]"
  },
  "orig_nbformat": 4,
  "vscode": {
   "interpreter": {
    "hash": "8c25c5cd46b8b3d7ca9fc462fbba3ba71cb27607469c3474f13a70b04e274f5f"
   }
  }
 },
 "nbformat": 4,
 "nbformat_minor": 2
}
