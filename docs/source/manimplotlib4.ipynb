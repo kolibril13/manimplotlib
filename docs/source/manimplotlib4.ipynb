{
 "cells": [
  {
   "attachments": {},
   "cell_type": "markdown",
   "id": "b97af06a",
   "metadata": {},
   "source": [
    "# DPI and figsize"
   ]
  },
  {
   "cell_type": "code",
   "execution_count": null,
   "id": "495c6464",
   "metadata": {},
   "outputs": [],
   "source": [
    "import matplotlib.pyplot as plt\n",
    "import numpy as np\n",
    "from manim import *\n",
    "config.media_embed = True\n",
    "\n",
    "def figtoimg(fig):\n",
    "    fig.canvas.draw()\n",
    "    img = fig.canvas.buffer_rgba()\n",
    "    plt.close(fig)\n",
    "    return img"
   ]
  },
  {
   "cell_type": "code",
   "execution_count": null,
   "id": "8d61898d",
   "metadata": {},
   "outputs": [],
   "source": [
    "x = np.linspace(0, 10, 100)\n",
    "\n",
    "def make_plot(dpi, my_fig_size):\n",
    "    fig, ax = plt.subplots(figsize=(my_fig_size, my_fig_size), dpi=dpi)\n",
    "    ax.plot(x, np.sin(x))\n",
    "    ax.set_ylim(-1, 1)\n",
    "    return figtoimg(fig)\n",
    "\n",
    "def make_mobject(dpi, my_fig_size, position=3 * LEFT):\n",
    "    array = make_plot(dpi, my_fig_size)\n",
    "    img = ImageMobject(array)\n",
    "    img.shift(position)\n",
    "    fsround = f\"{my_fig_size:.1f}\"\n",
    "    annoA = Text(f\"fig_size = ({fsround}, {fsround})\\n{dpi=:.0f}\", color=BLACK)\n",
    "    annoA.to_edge(UP).scale(0.4)\n",
    "    all = Group(img, annoA.next_to(img, UP))\n",
    "    return all\n",
    "\n",
    "\n",
    "plt.imshow(make_plot(100, 4))\n",
    "plt.axis(\"off\")\n"
   ]
  },
  {
   "cell_type": "code",
   "execution_count": null,
   "id": "5c7e3601",
   "metadata": {},
   "outputs": [],
   "source": [
    "class Example(Scene):\n",
    "    def construct(self):\n",
    "        self.camera.background_color = BLUE_A\n",
    "        fig_size_tracker = ValueTracker(4)  # for figsize = (4,4)\n",
    "        dpi_tracker = ValueTracker(100)  # for dpi = 100\n",
    "\n",
    "        imageA = Group()\n",
    "        self.add(imageA)\n",
    "\n",
    "        def update_imageA(mob):\n",
    "            if len(mob.submobjects) > 0:  # TODO: can this be removed somehow?\n",
    "                mob.remove(mob.submobjects[-1])\n",
    "            mob.add(make_mobject(100, fig_size_tracker.get_value(), position=3 * LEFT))\n",
    "\n",
    "        imageA.add_updater(update_imageA)\n",
    "\n",
    "        imageB = Group()\n",
    "        self.add(imageB)\n",
    "\n",
    "        def update_imageB(mob):\n",
    "            if len(mob.submobjects) > 0:  # TODO: can this be removed somehow?\n",
    "                mob.remove(mob.submobjects[-1])\n",
    "            mob.add(make_mobject(dpi_tracker.get_value(), 4, position=3 * RIGHT))\n",
    "\n",
    "        imageB.add_updater(update_imageB)\n",
    "\n",
    "        self.play(\n",
    "            dpi_tracker.animate.set_value(200),\n",
    "            fig_size_tracker.animate.set_value(8),\n",
    "            run_time=1,\n",
    "        )\n",
    "        imageA.add_updater(lambda x, dt: x)  # why is this line needed?\n",
    "        self.wait()\n",
    "        dpi_tracker.set_value(175)\n",
    "        fig_size_tracker.set_value(7)\n",
    "        self.wait()\n",
    "        dpi_tracker.set_value(150)\n",
    "        fig_size_tracker.set_value(6)\n",
    "        self.wait()\n",
    "        dpi_tracker.set_value(125)\n",
    "        fig_size_tracker.set_value(5)\n",
    "        self.wait()\n",
    "        dpi_tracker.set_value(100)\n",
    "        fig_size_tracker.set_value(4)\n",
    "        self.wait()\n",
    "\n",
    "\n",
    "%manim -v WARNING -qh --disable_caching --progress_bar None Example"
   ]
  },
  {
   "cell_type": "code",
   "execution_count": null,
   "id": "77692928",
   "metadata": {},
   "outputs": [],
   "source": [
    "class Example(Scene):  # TODO: This is not working, but the syntax would be amazing!\n",
    "    def construct(self):\n",
    "        fig_size_tracker = ValueTracker(4)  # for figsize = (4,4)\n",
    "        dpi_tracker = ValueTracker(100)  # for dpi = 100\n",
    "\n",
    "        imageA = make_mobject(100, fig_size_tracker.get_value(), position=3 * LEFT)\n",
    "        self.add(imageA)\n",
    "\n",
    "        def update_imageA(mob):\n",
    "            new_mob = make_mobject(100, fig_size_tracker.get_value(), position=3 * LEFT)\n",
    "            mob.become(new_mob)\n",
    "\n",
    "        imageA.add_updater(update_imageA)\n",
    "        self.play(fig_size_tracker.animate.set_value(6), run_time=1)\n",
    "        self.wait()\n",
    "\n",
    "\n",
    "%manim -v WARNING -qh --disable_caching --progress_bar None Example"
   ]
  },
  {
   "cell_type": "code",
   "execution_count": null,
   "id": "019a88d6",
   "metadata": {},
   "outputs": [],
   "source": [
    "# for future: this annotates the frame\n",
    "# pyFrame = config[\"pixel_height\"]  # 1080 default\n",
    "# pxFrame = config[\"pixel_width\"]  # 1920 #default\n",
    "# frame_width = config[\"frame_width\"]\n",
    "# frame_height = config[\"frame_height\"]\n",
    "# d1 = Line(frame_width * LEFT / 2, frame_width * RIGHT / 2).to_edge(DOWN)\n",
    "# d2 = Line(frame_height * UP / 2, frame_height * DOWN / 2).to_edge(LEFT)\n",
    "# t1 = Text(str(pxFrame)).scale(0.5).next_to(d1, DOWN, buff=SMALL_BUFF)\n",
    "# t2 = Text(str(pyFrame)).scale(0.5).rotate(90*DEGREES).next_to(d2, LEFT, buff=SMALL_BUFF)\n",
    "\n",
    "# class Example(Scene):\n",
    "#     def construct(self):\n",
    "#         self.add(d1, d2, t1, t2)\n",
    "\n",
    "\n",
    "# %manim -v WARNING -qh --disable_caching --progress_bar None Example"
   ]
  }
 ],
 "metadata": {
  "kernelspec": {
   "display_name": ".venv",
   "language": "python",
   "name": "python3"
  },
  "language_info": {
   "codemirror_mode": {
    "name": "ipython",
    "version": 3
   },
   "file_extension": ".py",
   "mimetype": "text/x-python",
   "name": "python",
   "nbconvert_exporter": "python",
   "pygments_lexer": "ipython3",
   "version": "3.11.1"
  },
  "vscode": {
   "interpreter": {
    "hash": "8c25c5cd46b8b3d7ca9fc462fbba3ba71cb27607469c3474f13a70b04e274f5f"
   }
  }
 },
 "nbformat": 4,
 "nbformat_minor": 5
}
