{
 "cells": [
  {
   "attachments": {},
   "cell_type": "markdown",
   "id": "b97af06a",
   "metadata": {},
   "source": [
    "# DPI and figsize"
   ]
  },
  {
   "cell_type": "code",
   "execution_count": null,
   "id": "495c6464",
   "metadata": {},
   "outputs": [],
   "source": [
    "import matplotlib.pyplot as plt\n",
    "import numpy as np\n",
    "from manim import *\n",
    "config.media_embed = True"
   ]
  },
  {
   "cell_type": "code",
   "execution_count": null,
   "id": "21e74504",
   "metadata": {},
   "outputs": [],
   "source": [
    "pyFrame = config[\"pixel_height\"]  # 1080 default\n",
    "pxFrame = config[\"pixel_width\"]  # 1920 #default\n",
    "frame_width = config[\"frame_width\"]\n",
    "frame_height = config[\"frame_height\"]\n",
    "d1 = Line(frame_width * LEFT / 2, frame_width * RIGHT / 2).to_edge(DOWN)\n",
    "d2 = Line(frame_height * UP / 2, frame_height * DOWN / 2).to_edge(LEFT)\n",
    "t1 = Tex(str(pxFrame)).scale(0.5).next_to(d1, DOWN, buff=0)\n",
    "t2 = Tex(str(pyFrame)).scale(0.5).rotate(90*DEGREES).next_to(d2, LEFT, buff=0)\n",
    "\n",
    "class Example(Scene):\n",
    "    def construct(self):\n",
    "        self.add(d1, d2, t1, t2)\n",
    "\n",
    "        x = np.linspace(0,10,100)\n",
    "\n",
    "        for figsizeA in np.arange(4,8, 0.1): #this should be rewritten with valuetrackers\n",
    "            dpiA = 100\n",
    "            figsizeB = 4\n",
    "\n",
    "            # A\n",
    "            figsizeA_round= (float(f\"{figsizeA:.2f}\"),float(f\"{figsizeA:.2f}\"))\n",
    "            figA, axA = plt.subplots(figsize=figsizeA_round, dpi = dpiA)\n",
    "            axA.plot(x, np.sin(x))\n",
    "            axA.set_ylim(-1,1)\n",
    "            figA.canvas.draw()\n",
    "            imgA = ImageMobject(figA.canvas.buffer_rgba())\n",
    "            imgA.shift(3*LEFT)\n",
    "            plt.close(figA)\n",
    "\n",
    "            annoA=Text(f\"{figsizeA_round=}\\n\"\n",
    "                     f\"{dpiA=}\").to_edge(UP).scale(0.4)\n",
    "            allA = Group(imgA,annoA.next_to(imgA,UP))\n",
    "            self.add(allA)\n",
    "\n",
    "            # B\n",
    "            dpiB = int(figsizeA/figsizeB*100)\n",
    "            figB, axB = plt.subplots(figsize=(figsizeB,figsizeB), dpi = dpiB)\n",
    "            axB.plot(x, np.sin(x))\n",
    "            axB.set_ylim(-1,1)\n",
    "            figB.canvas.draw()\n",
    "            imgB = ImageMobject(figB.canvas.buffer_rgba())\n",
    "            imgB.shift(3*RIGHT)\n",
    "            plt.close(figB)\n",
    "\n",
    "            annoB=Text(f\"figsizeB={(figsizeB,figsizeB)}\\n\"\n",
    "                     f\"{dpiB=}\").to_edge(UP).scale(0.4)\n",
    "            allB = Group(imgB,annoB.next_to(imgB,UP))\n",
    "            self.add(allB)\n",
    "            self.wait(1/config.frame_rate*2)\n",
    "\n",
    "            self.remove(allA)\n",
    "            self.remove(allB)\n",
    "\n",
    "%manim -v WARNING -qh --disable_caching --progress_bar None Example"
   ]
  }
 ],
 "metadata": {
  "kernelspec": {
   "display_name": ".venv",
   "language": "python",
   "name": "python3"
  },
  "language_info": {
   "codemirror_mode": {
    "name": "ipython",
    "version": 3
   },
   "file_extension": ".py",
   "mimetype": "text/x-python",
   "name": "python",
   "nbconvert_exporter": "python",
   "pygments_lexer": "ipython3",
   "version": "3.11.1 (main, Dec 23 2022, 09:28:24) [Clang 14.0.0 (clang-1400.0.29.202)]"
  },
  "vscode": {
   "interpreter": {
    "hash": "8c25c5cd46b8b3d7ca9fc462fbba3ba71cb27607469c3474f13a70b04e274f5f"
   }
  }
 },
 "nbformat": 4,
 "nbformat_minor": 5
}
