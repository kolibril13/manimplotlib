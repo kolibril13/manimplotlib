{
 "cells": [
  {
   "attachments": {},
   "cell_type": "markdown",
   "id": "b97af06a",
   "metadata": {},
   "source": [
    "# Animated Scatter\n",
    "\n"
   ]
  },
  {
   "cell_type": "code",
   "execution_count": 1,
   "id": "495c6464",
   "metadata": {},
   "outputs": [
    {
     "data": {
      "text/html": [
       "<pre style=\"white-space:pre;overflow-x:auto;line-height:normal;font-family:Menlo,'DejaVu Sans Mono',consolas,'Courier New',monospace\">Manim Community <span style=\"color: #008000; text-decoration-color: #008000\">v0.17.1</span>\n",
       "\n",
       "</pre>\n"
      ],
      "text/plain": [
       "Manim Community \u001b[32mv0.\u001b[0m\u001b[32m17.1\u001b[0m\n",
       "\n"
      ]
     },
     "metadata": {},
     "output_type": "display_data"
    }
   ],
   "source": [
    "import matplotlib.pyplot as plt\n",
    "import numpy as np\n",
    "from manim import *\n",
    "config.media_embed = True"
   ]
  },
  {
   "cell_type": "code",
   "execution_count": 3,
   "id": "94b669d2",
   "metadata": {},
   "outputs": [
    {
     "data": {
      "text/html": [
       "<video src=\"media/jupyter/ShowScreenResolution@2023-01-04@17-41-03.mp4\" controls autoplay loop style=\"max-width: 60%;\"  >\n",
       "      Your browser does not support the <code>video</code> element.\n",
       "    </video>"
      ],
      "text/plain": [
       "<IPython.core.display.Video object>"
      ]
     },
     "metadata": {},
     "output_type": "display_data"
    }
   ],
   "source": [
    "from manim import *\n",
    "from sklearn.datasets import make_blobs\n",
    "import matplotlib.pyplot as plt\n",
    "import seaborn as sns\n",
    "\n",
    "sns.set()\n",
    "MAX_N=400\n",
    "X, y = make_blobs(\n",
    "    n_samples=MAX_N,\n",
    "    n_features=2,\n",
    "    centers=3,\n",
    "    cluster_std=0.8,\n",
    "    shuffle=True,\n",
    "    random_state=0,\n",
    ")\n",
    "def plot(param):\n",
    "    fig, ax = plt.subplots(figsize = (4,3) , dpi = 250)\n",
    "    param = int(param)\n",
    "    X_show = X[:param, :]\n",
    "    ax.set_xlim(-4,4)\n",
    "    ax.set_ylim(-1,6)\n",
    "\n",
    "    ax.scatter(X_show[:, 0], X_show[:, 1], s=50, c=\"lightgray\", edgecolor=\"black\")\n",
    "    fig.canvas.draw()\n",
    "    img = ImageMobject(fig.canvas.buffer_rgba())\n",
    "    plt.close(fig)\n",
    "    return img\n",
    "\n",
    "\n",
    "class ShowScreenResolution(Scene):\n",
    "    def construct(self):\n",
    "        pyFrame = config[\"pixel_height\"]  # 1080 default\n",
    "        pxFrame = config[\"pixel_width\"]  # 1920 #default\n",
    "        frame_width = config[\"frame_width\"]\n",
    "        frame_height = config[\"frame_height\"]\n",
    "        d1 = Line(frame_width * LEFT / 2, frame_width * RIGHT / 2).to_edge(DOWN)\n",
    "        self.add(d1)\n",
    "        self.add(Tex(str(pxFrame)).scale(0.5).next_to(d1, DOWN, buff=0))\n",
    "        d2 = Line(frame_height * UP / 2, frame_height * DOWN / 2).to_edge(LEFT)\n",
    "        self.add(d2)\n",
    "        self.add(\n",
    "            Tex(str(pyFrame)).scale(0.5).rotate(90 * DEGREES).next_to(d2, LEFT, buff=0)\n",
    "        )\n",
    "        img = plot(0)\n",
    "        self.add(Text(\"My animated plot\").next_to(img,UP))\n",
    "        self.play(FadeIn(img))\n",
    "        tr_amplitude = ValueTracker(0)\n",
    "        def update_image(mob):\n",
    "            new_mob = plot(tr_amplitude.get_value())\n",
    "            mob.become(new_mob)\n",
    "\n",
    "        img.add_updater(update_image)\n",
    "        self.play(tr_amplitude.animate.set_value(MAX_N), run_time=3)\n",
    "\n",
    "%manim -v WARNING -ql --disable_caching --progress_bar None ShowScreenResolution"
   ]
  },
  {
   "cell_type": "code",
   "execution_count": null,
   "id": "f6ef1ee6",
   "metadata": {},
   "outputs": [],
   "source": []
  }
 ],
 "metadata": {
  "kernelspec": {
   "display_name": ".venv",
   "language": "python",
   "name": "python3"
  },
  "language_info": {
   "codemirror_mode": {
    "name": "ipython",
    "version": 3
   },
   "file_extension": ".py",
   "mimetype": "text/x-python",
   "name": "python",
   "nbconvert_exporter": "python",
   "pygments_lexer": "ipython3",
   "version": "3.11.1 (main, Dec 23 2022, 09:28:24) [Clang 14.0.0 (clang-1400.0.29.202)]"
  },
  "vscode": {
   "interpreter": {
    "hash": "8c25c5cd46b8b3d7ca9fc462fbba3ba71cb27607469c3474f13a70b04e274f5f"
   }
  }
 },
 "nbformat": 4,
 "nbformat_minor": 5
}
