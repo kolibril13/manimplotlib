{
 "cells": [
  {
   "cell_type": "code",
   "execution_count": 1,
   "metadata": {},
   "outputs": [
    {
     "data": {
      "text/html": [
       "<pre style=\"white-space:pre;overflow-x:auto;line-height:normal;font-family:Menlo,'DejaVu Sans Mono',consolas,'Courier New',monospace\">Manim Community <span style=\"color: #008000; text-decoration-color: #008000\">v0.17.1</span>\n",
       "\n",
       "</pre>\n"
      ],
      "text/plain": [
       "Manim Community \u001b[32mv0.\u001b[0m\u001b[32m17.1\u001b[0m\n",
       "\n"
      ]
     },
     "metadata": {},
     "output_type": "display_data"
    }
   ],
   "source": [
    "from manim import *\n",
    "import matplotlib.pyplot as plt"
   ]
  },
  {
   "cell_type": "code",
   "execution_count": 2,
   "metadata": {},
   "outputs": [
    {
     "data": {
      "text/html": [
       "<video src=\"media/jupyter/Example@2023-01-04@17-41-25.mp4\" controls autoplay loop style=\"max-width: 60%;\"  >\n",
       "      Your browser does not support the <code>video</code> element.\n",
       "    </video>"
      ],
      "text/plain": [
       "<IPython.core.display.Video object>"
      ]
     },
     "metadata": {},
     "output_type": "display_data"
    }
   ],
   "source": [
    "class Example(Scene):\n",
    "    def construct(self):\n",
    "        x = np.linspace(0, 30, 400)\n",
    "        amplitude = 0.5\n",
    "        self.camera.background_color = \"#ece6e2\"\n",
    "        fig, ax = plt.subplots()\n",
    "        ax.plot(x, amplitude * np.sin(x))\n",
    "        ax.set_ylim(-1, 1)\n",
    "        plt.savefig(\"test.svg\")\n",
    "        plt.close(fig)\n",
    "        img = SVGMobject(\"test.svg\").scale(3)\n",
    "        self.add(img)\n",
    "        for i in img.submobjects[:-18]: # replace with img.submobjects\n",
    "            self.play(i.animate.set_color(ORANGE), run_time = 0.1)\n",
    "\n",
    "%manim -v WARNING -ql  --disable_caching --progress_bar None Example"
   ]
  },
  {
   "cell_type": "code",
   "execution_count": null,
   "metadata": {},
   "outputs": [],
   "source": []
  }
 ],
 "metadata": {
  "kernelspec": {
   "display_name": ".venv",
   "language": "python",
   "name": "python3"
  },
  "language_info": {
   "codemirror_mode": {
    "name": "ipython",
    "version": 3
   },
   "file_extension": ".py",
   "mimetype": "text/x-python",
   "name": "python",
   "nbconvert_exporter": "python",
   "pygments_lexer": "ipython3",
   "version": "3.11.1"
  },
  "orig_nbformat": 4,
  "vscode": {
   "interpreter": {
    "hash": "8c25c5cd46b8b3d7ca9fc462fbba3ba71cb27607469c3474f13a70b04e274f5f"
   }
  }
 },
 "nbformat": 4,
 "nbformat_minor": 2
}
