{
 "cells": [
  {
   "cell_type": "code",
   "execution_count": null,
   "metadata": {},
   "outputs": [],
   "source": [
    "from manim import *\n",
    "import matplotlib.pyplot as plt\n"
   ]
  },
  {
   "cell_type": "code",
   "execution_count": null,
   "metadata": {},
   "outputs": [],
   "source": [
    "class Example(Scene):\n",
    "    def construct(self):\n",
    "        x = np.linspace(0, 30, 400)\n",
    "        amplitude = 0.5\n",
    "        self.camera.background_color = \"#ece6e2\"\n",
    "        fig, ax = plt.subplots()\n",
    "        ax.plot(x, amplitude * np.sin(x))\n",
    "        ax.set_ylim(-1, 1)\n",
    "        plt.savefig(\"test.svg\")\n",
    "        plt.close(fig)\n",
    "        img = SVGMobject(\"test.svg\").scale(3)\n",
    "        self.add(img)\n",
    "        for i in img.submobjects:\n",
    "            self.play(i.animate.set_color(ORANGE), run_time = 0.1)\n",
    "\n",
    "%manim -v WARNING -qm --disable_caching --progress_bar None Example"
   ]
  },
  {
   "cell_type": "code",
   "execution_count": null,
   "metadata": {},
   "outputs": [],
   "source": []
  }
 ],
 "metadata": {
  "kernelspec": {
   "display_name": ".venv",
   "language": "python",
   "name": "python3"
  },
  "language_info": {
   "codemirror_mode": {
    "name": "ipython",
    "version": 3
   },
   "file_extension": ".py",
   "mimetype": "text/x-python",
   "name": "python",
   "nbconvert_exporter": "python",
   "pygments_lexer": "ipython3",
   "version": "3.11.1"
  },
  "orig_nbformat": 4,
  "vscode": {
   "interpreter": {
    "hash": "8c25c5cd46b8b3d7ca9fc462fbba3ba71cb27607469c3474f13a70b04e274f5f"
   }
  }
 },
 "nbformat": 4,
 "nbformat_minor": 2
}
